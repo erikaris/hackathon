{
 "cells": [
  {
   "cell_type": "markdown",
   "metadata": {},
   "source": [
    "# Learning to Transform JSON WANE files into network graph files"
   ]
  },
  {
   "cell_type": "markdown",
   "metadata": {},
   "source": [
    "This notebook contains an early exploration of WANE files.\n",
    "\n",
    "The inital files were examples taken from the Internet Archive documentation for WANE files.\n",
    "\n",
    "This is basically a learning file for using JSON to work with the WANE files, eventually leading to exporting the WANE data into graph files for use with Gephi.\n",
    "\n"
   ]
  },
  {
   "cell_type": "code",
   "execution_count": 2,
   "metadata": {
    "collapsed": true
   },
   "outputs": [],
   "source": [
    "import json\n",
    "import csv"
   ]
  },
  {
   "cell_type": "code",
   "execution_count": 3,
   "metadata": {
    "collapsed": false
   },
   "outputs": [],
   "source": [
    "data = []\n",
    "for line in open('wane1.json', 'r'):\n",
    "    data.append(json.loads(line))"
   ]
  },
  {
   "cell_type": "code",
   "execution_count": 4,
   "metadata": {
    "collapsed": false
   },
   "outputs": [
    {
     "data": {
      "text/plain": [
       "{'digest': 'sha1:W5D7CYMHTMSQR6RRYLBJZXJIQPC5PJ2S',\n",
       " 'named_entities': {'locations': [''],\n",
       "  'organizations': [''],\n",
       "  'persons': ['UltraLinx']},\n",
       " 'timestamp': '20141019212349',\n",
       " 'url': 'http://finitebeings.tumblr.com/post/93990513608/5k-race-for-the-cure-funny?route=%2Fpost%2F%3Aid%2F%3Asummary'}"
      ]
     },
     "execution_count": 4,
     "metadata": {},
     "output_type": "execute_result"
    }
   ],
   "source": [
    "data[1]"
   ]
  },
  {
   "cell_type": "code",
   "execution_count": 5,
   "metadata": {
    "collapsed": false
   },
   "outputs": [
    {
     "data": {
      "text/plain": [
       "3"
      ]
     },
     "execution_count": 5,
     "metadata": {},
     "output_type": "execute_result"
    }
   ],
   "source": [
    "len(data)"
   ]
  },
  {
   "cell_type": "code",
   "execution_count": 6,
   "metadata": {
    "collapsed": false
   },
   "outputs": [
    {
     "name": "stdout",
     "output_type": "stream",
     "text": [
      "['url']\n",
      "['url']\n",
      "['url']\n"
     ]
    }
   ],
   "source": [
    "for item in data:\n",
    "    print(['url'])"
   ]
  },
  {
   "cell_type": "code",
   "execution_count": 7,
   "metadata": {
    "collapsed": false
   },
   "outputs": [
    {
     "name": "stdout",
     "output_type": "stream",
     "text": [
      "http://dissonantwinstonsmith.wordpress.com/2014/08/24/im-sick-of/?like_comment=79&_wpnonce=0fc57aa499&replytocom=93\n",
      "http://finitebeings.tumblr.com/post/93990513608/5k-race-for-the-cure-funny?route=%2Fpost%2F%3Aid%2F%3Asummary\n",
      "http://www.studlife.com/archives/Sports/2006/07/25/MaintainingsomeSouthBendontheSouthHowtobeatrueWUsportsfan/\n"
     ]
    }
   ],
   "source": [
    "for item in data:\n",
    "    print(item['url'])"
   ]
  },
  {
   "cell_type": "code",
   "execution_count": 8,
   "metadata": {
    "collapsed": false
   },
   "outputs": [
    {
     "data": {
      "text/plain": [
       "list"
      ]
     },
     "execution_count": 8,
     "metadata": {},
     "output_type": "execute_result"
    }
   ],
   "source": [
    "type(data)"
   ]
  },
  {
   "cell_type": "code",
   "execution_count": 9,
   "metadata": {
    "collapsed": false
   },
   "outputs": [
    {
     "name": "stdout",
     "output_type": "stream",
     "text": [
      "sha1:747IKFWUCVQVXY7TX2NMYFL422T4TRQX\n",
      "sha1:W5D7CYMHTMSQR6RRYLBJZXJIQPC5PJ2S\n",
      "sha1:QBXYTSBSEMRYTL47FSNPZ3JNC4Q3WCSZ\n"
     ]
    }
   ],
   "source": [
    "for item in data:\n",
    "    print(item['digest'])"
   ]
  },
  {
   "cell_type": "code",
   "execution_count": 10,
   "metadata": {
    "collapsed": false
   },
   "outputs": [
    {
     "name": "stdout",
     "output_type": "stream",
     "text": [
      "{'organizations': ['Dissonant Winston Smith Dissonant Winston Smith Menu Skip', 'Twitter Facebook Google', 'Google', 'Facebook', 'Wal-Mart', 'CNN', 'Bearcats'], 'locations': ['North County', 'America', 'St. Louis County St. Louis County Police St. Louis County', 'St. Louis', 'WordPress.com', 'Middle East'], 'persons': ['Stell', 'Tom Jackson', 'Smith', 'Pamela Fillingim', 'Darren Wilson Eric Fowler Eric Vickers Ferguson Ferguson', 'Ferguson', 'Rob Crawford', 'Kley', 'Erin Miller', 'darren wilson', 'Mike', 'Daniel Garrelts', 'Darren Wilson', 'Rath', 'Ellis Wyatt', 'Nick', 'Wilson', 'Mike Browns', 'Trayvon', 'Jane Jacoby', 'Kley Potter', 'Mike Brown', 'Michael', 'Michael Brown', 'Angela', 'Pablo', 'Jon Stewart', 'George Zimmerman Jamilah Nasheed KTVI', 'mike brown', 'Heather', 'Pamela fillingim', 'pamela fillingim', 'Susan']}\n",
      "{'organizations': [''], 'locations': [''], 'persons': ['UltraLinx']}\n",
      "{'organizations': ['Student Life Archives', 'Edition Student Life Breaking News Alerts Student Life Weekly Digest Student Life', 'University of Texas', 'Washington University', 'Facebook', 'Gators', 'UF', 'Virginia Tech'], 'locations': ['Miami', 'Virginia', 'Fort Lauderdale', 'Wash.', 'Va.', 'Blacksburg', 'St. Louis', 'Clayton', 'Fla.', 'Chapel Hill', 'Michigan State', 'Austin', 'North Carolina', 'Michigan'], 'persons': ['Scott Kaufman-Ross', 'Jim Druckenmiller', 'Ann Arbor', 'Sagartz', 'Scott Stern', 'Michael Vick']}\n"
     ]
    }
   ],
   "source": [
    "for item in data:\n",
    "    print(item['named_entities'])"
   ]
  },
  {
   "cell_type": "code",
   "execution_count": 11,
   "metadata": {
    "collapsed": false
   },
   "outputs": [
    {
     "name": "stdout",
     "output_type": "stream",
     "text": [
      "['Stell', 'Tom Jackson', 'Smith', 'Pamela Fillingim', 'Darren Wilson Eric Fowler Eric Vickers Ferguson Ferguson', 'Ferguson', 'Rob Crawford', 'Kley', 'Erin Miller', 'darren wilson', 'Mike', 'Daniel Garrelts', 'Darren Wilson', 'Rath', 'Ellis Wyatt', 'Nick', 'Wilson', 'Mike Browns', 'Trayvon', 'Jane Jacoby', 'Kley Potter', 'Mike Brown', 'Michael', 'Michael Brown', 'Angela', 'Pablo', 'Jon Stewart', 'George Zimmerman Jamilah Nasheed KTVI', 'mike brown', 'Heather', 'Pamela fillingim', 'pamela fillingim', 'Susan']\n",
      "['UltraLinx']\n",
      "['Scott Kaufman-Ross', 'Jim Druckenmiller', 'Ann Arbor', 'Sagartz', 'Scott Stern', 'Michael Vick']\n"
     ]
    }
   ],
   "source": [
    "for item in data:\n",
    "    print(item['named_entities']['persons'])"
   ]
  },
  {
   "cell_type": "code",
   "execution_count": 12,
   "metadata": {
    "collapsed": false
   },
   "outputs": [
    {
     "name": "stdout",
     "output_type": "stream",
     "text": [
      "['Dissonant Winston Smith Dissonant Winston Smith Menu Skip', 'Twitter Facebook Google', 'Google', 'Facebook', 'Wal-Mart', 'CNN', 'Bearcats']\n",
      "['']\n",
      "['Student Life Archives', 'Edition Student Life Breaking News Alerts Student Life Weekly Digest Student Life', 'University of Texas', 'Washington University', 'Facebook', 'Gators', 'UF', 'Virginia Tech']\n"
     ]
    }
   ],
   "source": [
    "for item in data:\n",
    "    print(item['named_entities']['organizations'])"
   ]
  },
  {
   "cell_type": "code",
   "execution_count": 13,
   "metadata": {
    "collapsed": false
   },
   "outputs": [
    {
     "name": "stdout",
     "output_type": "stream",
     "text": [
      "['North County', 'America', 'St. Louis County St. Louis County Police St. Louis County', 'St. Louis', 'WordPress.com', 'Middle East']\n",
      "['']\n",
      "['Miami', 'Virginia', 'Fort Lauderdale', 'Wash.', 'Va.', 'Blacksburg', 'St. Louis', 'Clayton', 'Fla.', 'Chapel Hill', 'Michigan State', 'Austin', 'North Carolina', 'Michigan']\n"
     ]
    }
   ],
   "source": [
    "for item in data:\n",
    "    print(item['named_entities']['locations'])"
   ]
  },
  {
   "cell_type": "code",
   "execution_count": 14,
   "metadata": {
    "collapsed": false
   },
   "outputs": [
    {
     "data": {
      "text/plain": [
       "list"
      ]
     },
     "execution_count": 14,
     "metadata": {},
     "output_type": "execute_result"
    }
   ],
   "source": [
    "type(data[2]['named_entities']['locations'])"
   ]
  },
  {
   "cell_type": "code",
   "execution_count": 15,
   "metadata": {
    "collapsed": false
   },
   "outputs": [
    {
     "data": {
      "text/plain": [
       "'http://finitebeings.tumblr.com/post/93990513608/5k-race-for-the-cure-funny?route=%2Fpost%2F%3Aid%2F%3Asummary'"
      ]
     },
     "execution_count": 15,
     "metadata": {},
     "output_type": "execute_result"
    }
   ],
   "source": [
    "data[1]['url']"
   ]
  },
  {
   "cell_type": "markdown",
   "metadata": {},
   "source": [
    "## Moving to using networkx for generating graphs in Python and exporting to Gephi"
   ]
  },
  {
   "cell_type": "markdown",
   "metadata": {},
   "source": [
    "So I'm reasonably confident about importing the JSON data at this point and accessing the different items in the data structure.  Now the next step is putting this into a graph."
   ]
  },
  {
   "cell_type": "code",
   "execution_count": 16,
   "metadata": {
    "collapsed": true
   },
   "outputs": [],
   "source": [
    "import networkx as nx\n",
    "G=nx.Graph()"
   ]
  },
  {
   "cell_type": "code",
   "execution_count": 17,
   "metadata": {
    "collapsed": true
   },
   "outputs": [],
   "source": [
    "for item in data:\n",
    "    G.add_node(item['url'])"
   ]
  },
  {
   "cell_type": "code",
   "execution_count": 18,
   "metadata": {
    "collapsed": false
   },
   "outputs": [
    {
     "data": {
      "text/plain": [
       "3"
      ]
     },
     "execution_count": 18,
     "metadata": {},
     "output_type": "execute_result"
    }
   ],
   "source": [
    "G.number_of_nodes()"
   ]
  },
  {
   "cell_type": "code",
   "execution_count": 19,
   "metadata": {
    "collapsed": false
   },
   "outputs": [
    {
     "data": {
      "text/plain": [
       "['http://www.studlife.com/archives/Sports/2006/07/25/MaintainingsomeSouthBendontheSouthHowtobeatrueWUsportsfan/',\n",
       " 'http://dissonantwinstonsmith.wordpress.com/2014/08/24/im-sick-of/?like_comment=79&_wpnonce=0fc57aa499&replytocom=93',\n",
       " 'http://finitebeings.tumblr.com/post/93990513608/5k-race-for-the-cure-funny?route=%2Fpost%2F%3Aid%2F%3Asummary']"
      ]
     },
     "execution_count": 19,
     "metadata": {},
     "output_type": "execute_result"
    }
   ],
   "source": [
    "G.nodes()"
   ]
  },
  {
   "cell_type": "code",
   "execution_count": 20,
   "metadata": {
    "collapsed": false
   },
   "outputs": [],
   "source": [
    "for item in data:\n",
    "    G.add_nodes_from(item['named_entities']['persons'])"
   ]
  },
  {
   "cell_type": "code",
   "execution_count": 21,
   "metadata": {
    "collapsed": false
   },
   "outputs": [],
   "source": [
    "edges = []\n",
    "for item in data:\n",
    "    for index in range(len(item['named_entities']['persons'])):\n",
    "        l = [[item['url'], item['named_entities']['persons'][index]]]\n",
    "        edges.extend(tuple(l))"
   ]
  },
  {
   "cell_type": "code",
   "execution_count": 22,
   "metadata": {
    "collapsed": false
   },
   "outputs": [
    {
     "name": "stdout",
     "output_type": "stream",
     "text": [
      "Stell\n"
     ]
    }
   ],
   "source": [
    "print(data[0]['named_entities']['persons'][0])"
   ]
  },
  {
   "cell_type": "code",
   "execution_count": 23,
   "metadata": {
    "collapsed": false
   },
   "outputs": [
    {
     "name": "stdout",
     "output_type": "stream",
     "text": [
      "['http://dissonantwinstonsmith.wordpress.com/2014/08/24/im-sick-of/?like_comment=79&_wpnonce=0fc57aa499&replytocom=93', 'Pamela Fillingim']\n"
     ]
    }
   ],
   "source": [
    "print(edges[3])"
   ]
  },
  {
   "cell_type": "code",
   "execution_count": 24,
   "metadata": {
    "collapsed": false
   },
   "outputs": [
    {
     "data": {
      "text/plain": [
       "[['http://dissonantwinstonsmith.wordpress.com/2014/08/24/im-sick-of/?like_comment=79&_wpnonce=0fc57aa499&replytocom=93',\n",
       "  'Stell'],\n",
       " ['http://dissonantwinstonsmith.wordpress.com/2014/08/24/im-sick-of/?like_comment=79&_wpnonce=0fc57aa499&replytocom=93',\n",
       "  'Tom Jackson'],\n",
       " ['http://dissonantwinstonsmith.wordpress.com/2014/08/24/im-sick-of/?like_comment=79&_wpnonce=0fc57aa499&replytocom=93',\n",
       "  'Smith'],\n",
       " ['http://dissonantwinstonsmith.wordpress.com/2014/08/24/im-sick-of/?like_comment=79&_wpnonce=0fc57aa499&replytocom=93',\n",
       "  'Pamela Fillingim'],\n",
       " ['http://dissonantwinstonsmith.wordpress.com/2014/08/24/im-sick-of/?like_comment=79&_wpnonce=0fc57aa499&replytocom=93',\n",
       "  'Darren Wilson Eric Fowler Eric Vickers Ferguson Ferguson'],\n",
       " ['http://dissonantwinstonsmith.wordpress.com/2014/08/24/im-sick-of/?like_comment=79&_wpnonce=0fc57aa499&replytocom=93',\n",
       "  'Ferguson'],\n",
       " ['http://dissonantwinstonsmith.wordpress.com/2014/08/24/im-sick-of/?like_comment=79&_wpnonce=0fc57aa499&replytocom=93',\n",
       "  'Rob Crawford'],\n",
       " ['http://dissonantwinstonsmith.wordpress.com/2014/08/24/im-sick-of/?like_comment=79&_wpnonce=0fc57aa499&replytocom=93',\n",
       "  'Kley'],\n",
       " ['http://dissonantwinstonsmith.wordpress.com/2014/08/24/im-sick-of/?like_comment=79&_wpnonce=0fc57aa499&replytocom=93',\n",
       "  'Erin Miller'],\n",
       " ['http://dissonantwinstonsmith.wordpress.com/2014/08/24/im-sick-of/?like_comment=79&_wpnonce=0fc57aa499&replytocom=93',\n",
       "  'darren wilson'],\n",
       " ['http://dissonantwinstonsmith.wordpress.com/2014/08/24/im-sick-of/?like_comment=79&_wpnonce=0fc57aa499&replytocom=93',\n",
       "  'Mike'],\n",
       " ['http://dissonantwinstonsmith.wordpress.com/2014/08/24/im-sick-of/?like_comment=79&_wpnonce=0fc57aa499&replytocom=93',\n",
       "  'Daniel Garrelts'],\n",
       " ['http://dissonantwinstonsmith.wordpress.com/2014/08/24/im-sick-of/?like_comment=79&_wpnonce=0fc57aa499&replytocom=93',\n",
       "  'Darren Wilson'],\n",
       " ['http://dissonantwinstonsmith.wordpress.com/2014/08/24/im-sick-of/?like_comment=79&_wpnonce=0fc57aa499&replytocom=93',\n",
       "  'Rath'],\n",
       " ['http://dissonantwinstonsmith.wordpress.com/2014/08/24/im-sick-of/?like_comment=79&_wpnonce=0fc57aa499&replytocom=93',\n",
       "  'Ellis Wyatt'],\n",
       " ['http://dissonantwinstonsmith.wordpress.com/2014/08/24/im-sick-of/?like_comment=79&_wpnonce=0fc57aa499&replytocom=93',\n",
       "  'Nick'],\n",
       " ['http://dissonantwinstonsmith.wordpress.com/2014/08/24/im-sick-of/?like_comment=79&_wpnonce=0fc57aa499&replytocom=93',\n",
       "  'Wilson'],\n",
       " ['http://dissonantwinstonsmith.wordpress.com/2014/08/24/im-sick-of/?like_comment=79&_wpnonce=0fc57aa499&replytocom=93',\n",
       "  'Mike Browns'],\n",
       " ['http://dissonantwinstonsmith.wordpress.com/2014/08/24/im-sick-of/?like_comment=79&_wpnonce=0fc57aa499&replytocom=93',\n",
       "  'Trayvon'],\n",
       " ['http://dissonantwinstonsmith.wordpress.com/2014/08/24/im-sick-of/?like_comment=79&_wpnonce=0fc57aa499&replytocom=93',\n",
       "  'Jane Jacoby'],\n",
       " ['http://dissonantwinstonsmith.wordpress.com/2014/08/24/im-sick-of/?like_comment=79&_wpnonce=0fc57aa499&replytocom=93',\n",
       "  'Kley Potter'],\n",
       " ['http://dissonantwinstonsmith.wordpress.com/2014/08/24/im-sick-of/?like_comment=79&_wpnonce=0fc57aa499&replytocom=93',\n",
       "  'Mike Brown'],\n",
       " ['http://dissonantwinstonsmith.wordpress.com/2014/08/24/im-sick-of/?like_comment=79&_wpnonce=0fc57aa499&replytocom=93',\n",
       "  'Michael'],\n",
       " ['http://dissonantwinstonsmith.wordpress.com/2014/08/24/im-sick-of/?like_comment=79&_wpnonce=0fc57aa499&replytocom=93',\n",
       "  'Michael Brown'],\n",
       " ['http://dissonantwinstonsmith.wordpress.com/2014/08/24/im-sick-of/?like_comment=79&_wpnonce=0fc57aa499&replytocom=93',\n",
       "  'Angela'],\n",
       " ['http://dissonantwinstonsmith.wordpress.com/2014/08/24/im-sick-of/?like_comment=79&_wpnonce=0fc57aa499&replytocom=93',\n",
       "  'Pablo'],\n",
       " ['http://dissonantwinstonsmith.wordpress.com/2014/08/24/im-sick-of/?like_comment=79&_wpnonce=0fc57aa499&replytocom=93',\n",
       "  'Jon Stewart'],\n",
       " ['http://dissonantwinstonsmith.wordpress.com/2014/08/24/im-sick-of/?like_comment=79&_wpnonce=0fc57aa499&replytocom=93',\n",
       "  'George Zimmerman Jamilah Nasheed KTVI'],\n",
       " ['http://dissonantwinstonsmith.wordpress.com/2014/08/24/im-sick-of/?like_comment=79&_wpnonce=0fc57aa499&replytocom=93',\n",
       "  'mike brown'],\n",
       " ['http://dissonantwinstonsmith.wordpress.com/2014/08/24/im-sick-of/?like_comment=79&_wpnonce=0fc57aa499&replytocom=93',\n",
       "  'Heather'],\n",
       " ['http://dissonantwinstonsmith.wordpress.com/2014/08/24/im-sick-of/?like_comment=79&_wpnonce=0fc57aa499&replytocom=93',\n",
       "  'Pamela fillingim'],\n",
       " ['http://dissonantwinstonsmith.wordpress.com/2014/08/24/im-sick-of/?like_comment=79&_wpnonce=0fc57aa499&replytocom=93',\n",
       "  'pamela fillingim'],\n",
       " ['http://dissonantwinstonsmith.wordpress.com/2014/08/24/im-sick-of/?like_comment=79&_wpnonce=0fc57aa499&replytocom=93',\n",
       "  'Susan'],\n",
       " ['http://finitebeings.tumblr.com/post/93990513608/5k-race-for-the-cure-funny?route=%2Fpost%2F%3Aid%2F%3Asummary',\n",
       "  'UltraLinx'],\n",
       " ['http://www.studlife.com/archives/Sports/2006/07/25/MaintainingsomeSouthBendontheSouthHowtobeatrueWUsportsfan/',\n",
       "  'Scott Kaufman-Ross'],\n",
       " ['http://www.studlife.com/archives/Sports/2006/07/25/MaintainingsomeSouthBendontheSouthHowtobeatrueWUsportsfan/',\n",
       "  'Jim Druckenmiller'],\n",
       " ['http://www.studlife.com/archives/Sports/2006/07/25/MaintainingsomeSouthBendontheSouthHowtobeatrueWUsportsfan/',\n",
       "  'Ann Arbor'],\n",
       " ['http://www.studlife.com/archives/Sports/2006/07/25/MaintainingsomeSouthBendontheSouthHowtobeatrueWUsportsfan/',\n",
       "  'Sagartz'],\n",
       " ['http://www.studlife.com/archives/Sports/2006/07/25/MaintainingsomeSouthBendontheSouthHowtobeatrueWUsportsfan/',\n",
       "  'Scott Stern'],\n",
       " ['http://www.studlife.com/archives/Sports/2006/07/25/MaintainingsomeSouthBendontheSouthHowtobeatrueWUsportsfan/',\n",
       "  'Michael Vick']]"
      ]
     },
     "execution_count": 24,
     "metadata": {},
     "output_type": "execute_result"
    }
   ],
   "source": [
    "edges"
   ]
  },
  {
   "cell_type": "code",
   "execution_count": 25,
   "metadata": {
    "collapsed": false
   },
   "outputs": [],
   "source": [
    "G.add_edges_from(edges)"
   ]
  },
  {
   "cell_type": "code",
   "execution_count": 26,
   "metadata": {
    "collapsed": false,
    "scrolled": true
   },
   "outputs": [
    {
     "data": {
      "text/plain": [
       "[('Michael',\n",
       "  'http://dissonantwinstonsmith.wordpress.com/2014/08/24/im-sick-of/?like_comment=79&_wpnonce=0fc57aa499&replytocom=93'),\n",
       " ('Jim Druckenmiller',\n",
       "  'http://www.studlife.com/archives/Sports/2006/07/25/MaintainingsomeSouthBendontheSouthHowtobeatrueWUsportsfan/'),\n",
       " ('Jon Stewart',\n",
       "  'http://dissonantwinstonsmith.wordpress.com/2014/08/24/im-sick-of/?like_comment=79&_wpnonce=0fc57aa499&replytocom=93'),\n",
       " ('http://www.studlife.com/archives/Sports/2006/07/25/MaintainingsomeSouthBendontheSouthHowtobeatrueWUsportsfan/',\n",
       "  'Scott Kaufman-Ross'),\n",
       " ('http://www.studlife.com/archives/Sports/2006/07/25/MaintainingsomeSouthBendontheSouthHowtobeatrueWUsportsfan/',\n",
       "  'Michael Vick'),\n",
       " ('http://www.studlife.com/archives/Sports/2006/07/25/MaintainingsomeSouthBendontheSouthHowtobeatrueWUsportsfan/',\n",
       "  'Sagartz'),\n",
       " ('http://www.studlife.com/archives/Sports/2006/07/25/MaintainingsomeSouthBendontheSouthHowtobeatrueWUsportsfan/',\n",
       "  'Ann Arbor'),\n",
       " ('http://www.studlife.com/archives/Sports/2006/07/25/MaintainingsomeSouthBendontheSouthHowtobeatrueWUsportsfan/',\n",
       "  'Scott Stern'),\n",
       " ('UltraLinx',\n",
       "  'http://finitebeings.tumblr.com/post/93990513608/5k-race-for-the-cure-funny?route=%2Fpost%2F%3Aid%2F%3Asummary'),\n",
       " ('Ferguson',\n",
       "  'http://dissonantwinstonsmith.wordpress.com/2014/08/24/im-sick-of/?like_comment=79&_wpnonce=0fc57aa499&replytocom=93'),\n",
       " ('Heather',\n",
       "  'http://dissonantwinstonsmith.wordpress.com/2014/08/24/im-sick-of/?like_comment=79&_wpnonce=0fc57aa499&replytocom=93'),\n",
       " ('darren wilson',\n",
       "  'http://dissonantwinstonsmith.wordpress.com/2014/08/24/im-sick-of/?like_comment=79&_wpnonce=0fc57aa499&replytocom=93'),\n",
       " ('Jane Jacoby',\n",
       "  'http://dissonantwinstonsmith.wordpress.com/2014/08/24/im-sick-of/?like_comment=79&_wpnonce=0fc57aa499&replytocom=93'),\n",
       " ('Michael Brown',\n",
       "  'http://dissonantwinstonsmith.wordpress.com/2014/08/24/im-sick-of/?like_comment=79&_wpnonce=0fc57aa499&replytocom=93'),\n",
       " ('Erin Miller',\n",
       "  'http://dissonantwinstonsmith.wordpress.com/2014/08/24/im-sick-of/?like_comment=79&_wpnonce=0fc57aa499&replytocom=93'),\n",
       " ('pamela fillingim',\n",
       "  'http://dissonantwinstonsmith.wordpress.com/2014/08/24/im-sick-of/?like_comment=79&_wpnonce=0fc57aa499&replytocom=93'),\n",
       " ('Nick',\n",
       "  'http://dissonantwinstonsmith.wordpress.com/2014/08/24/im-sick-of/?like_comment=79&_wpnonce=0fc57aa499&replytocom=93'),\n",
       " ('Mike',\n",
       "  'http://dissonantwinstonsmith.wordpress.com/2014/08/24/im-sick-of/?like_comment=79&_wpnonce=0fc57aa499&replytocom=93'),\n",
       " ('Darren Wilson Eric Fowler Eric Vickers Ferguson Ferguson',\n",
       "  'http://dissonantwinstonsmith.wordpress.com/2014/08/24/im-sick-of/?like_comment=79&_wpnonce=0fc57aa499&replytocom=93'),\n",
       " ('Mike Brown',\n",
       "  'http://dissonantwinstonsmith.wordpress.com/2014/08/24/im-sick-of/?like_comment=79&_wpnonce=0fc57aa499&replytocom=93'),\n",
       " ('Stell',\n",
       "  'http://dissonantwinstonsmith.wordpress.com/2014/08/24/im-sick-of/?like_comment=79&_wpnonce=0fc57aa499&replytocom=93'),\n",
       " ('Kley',\n",
       "  'http://dissonantwinstonsmith.wordpress.com/2014/08/24/im-sick-of/?like_comment=79&_wpnonce=0fc57aa499&replytocom=93'),\n",
       " ('Pamela Fillingim',\n",
       "  'http://dissonantwinstonsmith.wordpress.com/2014/08/24/im-sick-of/?like_comment=79&_wpnonce=0fc57aa499&replytocom=93'),\n",
       " ('Ellis Wyatt',\n",
       "  'http://dissonantwinstonsmith.wordpress.com/2014/08/24/im-sick-of/?like_comment=79&_wpnonce=0fc57aa499&replytocom=93'),\n",
       " ('Smith',\n",
       "  'http://dissonantwinstonsmith.wordpress.com/2014/08/24/im-sick-of/?like_comment=79&_wpnonce=0fc57aa499&replytocom=93'),\n",
       " ('http://dissonantwinstonsmith.wordpress.com/2014/08/24/im-sick-of/?like_comment=79&_wpnonce=0fc57aa499&replytocom=93',\n",
       "  'Angela'),\n",
       " ('http://dissonantwinstonsmith.wordpress.com/2014/08/24/im-sick-of/?like_comment=79&_wpnonce=0fc57aa499&replytocom=93',\n",
       "  'Trayvon'),\n",
       " ('http://dissonantwinstonsmith.wordpress.com/2014/08/24/im-sick-of/?like_comment=79&_wpnonce=0fc57aa499&replytocom=93',\n",
       "  'Pamela fillingim'),\n",
       " ('http://dissonantwinstonsmith.wordpress.com/2014/08/24/im-sick-of/?like_comment=79&_wpnonce=0fc57aa499&replytocom=93',\n",
       "  'Rob Crawford'),\n",
       " ('http://dissonantwinstonsmith.wordpress.com/2014/08/24/im-sick-of/?like_comment=79&_wpnonce=0fc57aa499&replytocom=93',\n",
       "  'Daniel Garrelts'),\n",
       " ('http://dissonantwinstonsmith.wordpress.com/2014/08/24/im-sick-of/?like_comment=79&_wpnonce=0fc57aa499&replytocom=93',\n",
       "  'Rath'),\n",
       " ('http://dissonantwinstonsmith.wordpress.com/2014/08/24/im-sick-of/?like_comment=79&_wpnonce=0fc57aa499&replytocom=93',\n",
       "  'Susan'),\n",
       " ('http://dissonantwinstonsmith.wordpress.com/2014/08/24/im-sick-of/?like_comment=79&_wpnonce=0fc57aa499&replytocom=93',\n",
       "  'Pablo'),\n",
       " ('http://dissonantwinstonsmith.wordpress.com/2014/08/24/im-sick-of/?like_comment=79&_wpnonce=0fc57aa499&replytocom=93',\n",
       "  'Wilson'),\n",
       " ('http://dissonantwinstonsmith.wordpress.com/2014/08/24/im-sick-of/?like_comment=79&_wpnonce=0fc57aa499&replytocom=93',\n",
       "  'Kley Potter'),\n",
       " ('http://dissonantwinstonsmith.wordpress.com/2014/08/24/im-sick-of/?like_comment=79&_wpnonce=0fc57aa499&replytocom=93',\n",
       "  'Darren Wilson'),\n",
       " ('http://dissonantwinstonsmith.wordpress.com/2014/08/24/im-sick-of/?like_comment=79&_wpnonce=0fc57aa499&replytocom=93',\n",
       "  'George Zimmerman Jamilah Nasheed KTVI'),\n",
       " ('http://dissonantwinstonsmith.wordpress.com/2014/08/24/im-sick-of/?like_comment=79&_wpnonce=0fc57aa499&replytocom=93',\n",
       "  'Mike Browns'),\n",
       " ('http://dissonantwinstonsmith.wordpress.com/2014/08/24/im-sick-of/?like_comment=79&_wpnonce=0fc57aa499&replytocom=93',\n",
       "  'Tom Jackson'),\n",
       " ('http://dissonantwinstonsmith.wordpress.com/2014/08/24/im-sick-of/?like_comment=79&_wpnonce=0fc57aa499&replytocom=93',\n",
       "  'mike brown')]"
      ]
     },
     "execution_count": 26,
     "metadata": {},
     "output_type": "execute_result"
    }
   ],
   "source": [
    "G.edges()"
   ]
  },
  {
   "cell_type": "code",
   "execution_count": 27,
   "metadata": {
    "collapsed": false
   },
   "outputs": [
    {
     "data": {
      "text/plain": [
       "[1,\n",
       " 1,\n",
       " 1,\n",
       " 1,\n",
       " 1,\n",
       " 1,\n",
       " 1,\n",
       " 1,\n",
       " 1,\n",
       " 1,\n",
       " 1,\n",
       " 1,\n",
       " 1,\n",
       " 1,\n",
       " 1,\n",
       " 1,\n",
       " 1,\n",
       " 1,\n",
       " 1,\n",
       " 1,\n",
       " 1,\n",
       " 1,\n",
       " 1,\n",
       " 1,\n",
       " 1,\n",
       " 1,\n",
       " 1,\n",
       " 1,\n",
       " 1,\n",
       " 1,\n",
       " 1,\n",
       " 1,\n",
       " 1,\n",
       " 1,\n",
       " 1,\n",
       " 1,\n",
       " 1,\n",
       " 1,\n",
       " 1,\n",
       " 1,\n",
       " 1,\n",
       " 6,\n",
       " 33]"
      ]
     },
     "execution_count": 27,
     "metadata": {},
     "output_type": "execute_result"
    }
   ],
   "source": [
    "sorted(nx.degree(G).values())"
   ]
  },
  {
   "cell_type": "code",
   "execution_count": 28,
   "metadata": {
    "collapsed": false
   },
   "outputs": [
    {
     "data": {
      "text/plain": [
       "['Michael',\n",
       " 'Jim Druckenmiller',\n",
       " 'Jon Stewart',\n",
       " 'http://www.studlife.com/archives/Sports/2006/07/25/MaintainingsomeSouthBendontheSouthHowtobeatrueWUsportsfan/',\n",
       " 'UltraLinx',\n",
       " 'http://finitebeings.tumblr.com/post/93990513608/5k-race-for-the-cure-funny?route=%2Fpost%2F%3Aid%2F%3Asummary',\n",
       " 'Ferguson',\n",
       " 'Heather',\n",
       " 'Scott Stern',\n",
       " 'darren wilson',\n",
       " 'Jane Jacoby',\n",
       " 'Michael Brown',\n",
       " 'Ann Arbor',\n",
       " 'Erin Miller',\n",
       " 'pamela fillingim',\n",
       " 'Nick',\n",
       " 'Sagartz',\n",
       " 'Mike',\n",
       " 'Darren Wilson Eric Fowler Eric Vickers Ferguson Ferguson',\n",
       " 'Mike Brown',\n",
       " 'Stell',\n",
       " 'Kley',\n",
       " 'Pamela Fillingim',\n",
       " 'Ellis Wyatt',\n",
       " 'Smith',\n",
       " 'Scott Kaufman-Ross',\n",
       " 'Michael Vick',\n",
       " 'http://dissonantwinstonsmith.wordpress.com/2014/08/24/im-sick-of/?like_comment=79&_wpnonce=0fc57aa499&replytocom=93',\n",
       " 'Trayvon',\n",
       " 'Pamela fillingim',\n",
       " 'Rob Crawford',\n",
       " 'Daniel Garrelts',\n",
       " 'Rath',\n",
       " 'Angela',\n",
       " 'Susan',\n",
       " 'Pablo',\n",
       " 'Wilson',\n",
       " 'Kley Potter',\n",
       " 'Darren Wilson',\n",
       " 'George Zimmerman Jamilah Nasheed KTVI',\n",
       " 'Mike Browns',\n",
       " 'Tom Jackson',\n",
       " 'mike brown']"
      ]
     },
     "execution_count": 28,
     "metadata": {},
     "output_type": "execute_result"
    }
   ],
   "source": [
    "G.nodes()"
   ]
  },
  {
   "cell_type": "code",
   "execution_count": 30,
   "metadata": {
    "collapsed": false
   },
   "outputs": [],
   "source": [
    "nx.write_graphml(G,\"./graph1.gml\")"
   ]
  }
 ],
 "metadata": {
  "kernelspec": {
   "display_name": "Python 3",
   "language": "python",
   "name": "python3"
  },
  "language_info": {
   "codemirror_mode": {
    "name": "ipython",
    "version": 3
   },
   "file_extension": ".py",
   "mimetype": "text/x-python",
   "name": "python",
   "nbconvert_exporter": "python",
   "pygments_lexer": "ipython3",
   "version": "3.4.4"
  }
 },
 "nbformat": 4,
 "nbformat_minor": 0
}
